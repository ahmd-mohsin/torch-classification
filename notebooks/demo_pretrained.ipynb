{
 "cells": [
  {
   "cell_type": "markdown",
   "metadata": {},
   "source": [
    "### Standard Imports"
   ]
  },
  {
   "cell_type": "code",
   "execution_count": null,
   "metadata": {},
   "outputs": [],
   "source": [
    "import os\n",
    "import sys\n",
    "\n",
    "sys.path.append(os.path.join(os.getcwd(), \"..\", \".\"))  # add parent dir to path\n",
    "\n",
    "from typing import Tuple\n",
    "\n",
    "import lightning as pl\n",
    "import lightning.pytorch.callbacks as pl_callbacks\n",
    "import matplotlib.pyplot as plt\n",
    "import numpy as np\n",
    "import timm\n",
    "import torch\n",
    "import torch.nn as nn\n",
    "import torch.nn.functional as F\n",
    "import torch.optim as optim\n",
    "import torch.optim.lr_scheduler as lr_scheduler\n",
    "import torchinfo\n",
    "import torchmetrics\n",
    "import torchvision\n",
    "from torch import nn, optim\n",
    "from torch.nn import functional as F\n",
    "from torch.utils.data import DataLoader, random_split, sampler\n",
    "from torchvision import datasets, models\n",
    "from torchvision import transforms as T  # for simplifying the transforms\n",
    "from tqdm.notebook import tqdm\n",
    "\n",
    "# Custom imports\n",
    "from config import *\n",
    "from data import *\n",
    "\n",
    "# Use STIX font for math plotting\n",
    "plt.rcParams[\"font.family\"] = \"STIXGeneral\"\n",
    "\n",
    "import warnings\n",
    "\n",
    "import torchvision\n",
    "from termcolor import colored\n",
    "from torchvision import transforms\n",
    "\n",
    "warnings.filterwarnings(\"ignore\")\n",
    "\n",
    "cfg = get_config()\n",
    "cfg.root_dir = os.path.join(os.getcwd(), \"..\")\n",
    "cfg.data_dir = os.path.join(cfg.root_dir, \"data\")\n",
    "cfg.model_dir = os.path.join(cfg.root_dir, \"weights\")\n",
    "print(colored(f\"Config:\", \"green\"))\n",
    "print(cfg.to_yaml())\n",
    "\n",
    "device = torch.device(\"cuda:0\") if torch.cuda.is_available() else torch.device(\"cpu\")\n",
    "print(colored(f\"Using device:\", \"green\"), device)\n",
    "\n",
    "# Seed for reproducability\n",
    "# Ensure that all operations are deterministic on GPU (if used) for reproducibility\n",
    "torch.backends.cudnn.deterministic = True\n",
    "torch.backends.cudnn.benchmark = False\n",
    "torch.manual_seed(cfg.seed)\n",
    "np.random.seed(np.array(cfg.seed))"
   ]
  },
  {
   "cell_type": "markdown",
   "metadata": {},
   "source": [
    "### Data Loading and Visualization"
   ]
  },
  {
   "cell_type": "code",
   "execution_count": null,
   "metadata": {},
   "outputs": [],
   "source": [
    "# Resize the images to 224x224 as is the ImageNet standard\n",
    "train_transform = transforms.Compose([transforms.ToTensor()])\n",
    "\n",
    "# CIFAR100 dataset\n",
    "train_dataset, _, _ = get_cifar100_dataset(cfg.data_dir, train_transform, val_size=0)\n",
    "\n",
    "# Visualize some images from the dataset\n",
    "images = torch.stack([train_dataset[i][0] for i in range(18)])\n",
    "grid = torchvision.utils.make_grid(images[:18], nrow=6, padding=2, pad_value=1)\n",
    "plt.figure(figsize=(8, 8))\n",
    "plt.imshow(grid.permute(1, 2, 0))\n",
    "plt.title(\"CIFAR100 Images\")\n",
    "plt.axis(\"off\")\n",
    "plt.show()"
   ]
  },
  {
   "cell_type": "markdown",
   "metadata": {},
   "source": [
    "### Model"
   ]
  },
  {
   "cell_type": "code",
   "execution_count": null,
   "metadata": {},
   "outputs": [],
   "source": [
    "# ResNet50 model\n",
    "model = timm.create_model(\"resnet50\", pretrained=True, num_classes=100)\n",
    "\n",
    "# Print the model summary\n",
    "torchinfo.summary(model, input_size=(1, 3, 224, 224), depth=2, device=\"meta\")"
   ]
  },
  {
   "cell_type": "markdown",
   "metadata": {},
   "source": [
    "### Training"
   ]
  },
  {
   "cell_type": "code",
   "execution_count": null,
   "metadata": {},
   "outputs": [],
   "source": [
    "train_transform = transforms.Compose(\n",
    "    [\n",
    "        transforms.Resize(\n",
    "            (224, 224), interpolation=transforms.InterpolationMode.BICUBIC\n",
    "        ),\n",
    "        transforms.RandomHorizontalFlip(),\n",
    "        transforms.ToTensor(),\n",
    "        transforms.Normalize(\n",
    "            mean=[0.5071, 0.4867, 0.4408], std=[0.2675, 0.2565, 0.2761]\n",
    "        ),\n",
    "    ]\n",
    ")\n",
    "test_transform = transforms.Compose(\n",
    "    [\n",
    "        transforms.Resize(\n",
    "            (224, 224), interpolation=transforms.InterpolationMode.BICUBIC\n",
    "        ),\n",
    "        transforms.ToTensor(),\n",
    "        transforms.Normalize(\n",
    "            mean=[0.5071, 0.4867, 0.4408], std=[0.2675, 0.2565, 0.2761]\n",
    "        ),\n",
    "    ]\n",
    ")\n",
    "\n",
    "train_dataloader, val_dataloader, test_dataloader = get_cifar100_loaders(\n",
    "    cfg.data_dir,\n",
    "    cfg.batch_size,\n",
    "    cfg.num_workers,\n",
    "    train_transform,\n",
    "    test_transform,\n",
    "    val_size=0.1,\n",
    ")"
   ]
  },
  {
   "cell_type": "code",
   "execution_count": null,
   "metadata": {},
   "outputs": [],
   "source": [
    "class ImageClassifier(pl.LightningModule):\n",
    "    def __init__(self, model: nn.Module, cfg: dict):\n",
    "        super().__init__()\n",
    "        self.model = model\n",
    "        self.cfg = cfg\n",
    "        self.loss = nn.CrossEntropyLoss()\n",
    "\n",
    "    def forward(self, x: torch.Tensor):\n",
    "        return self.model(x)\n",
    "\n",
    "    def training_step(self, batch: Tuple[torch.Tensor, torch.Tensor], batch_idx: int):\n",
    "        x, y = batch\n",
    "        y_hat = self(x)\n",
    "        loss = self.loss(y_hat, y)\n",
    "        self.log(\"train_loss\", loss, prog_bar=True)\n",
    "        return loss\n",
    "\n",
    "    def validation_step(self, batch: Tuple[torch.Tensor, torch.Tensor], batch_idx: int):\n",
    "        x, y = batch\n",
    "        y_hat = self(x)\n",
    "        loss = self.loss(y_hat, y)\n",
    "        self.log(\"val_loss\", loss, prog_bar=True)\n",
    "\n",
    "        # calculate accuracy\n",
    "        _, preds = torch.max(y_hat, dim=1)\n",
    "        acc = torchmetrics.functional.accuracy(\n",
    "            preds, y, num_classes=100, task=\"multiclass\"\n",
    "        )\n",
    "        self.log(\"val_acc\", acc)\n",
    "\n",
    "        return loss\n",
    "\n",
    "    def test_step(self, batch: Tuple[torch.Tensor, torch.Tensor], batch_idx: int):\n",
    "        x, y = batch\n",
    "        y_hat = self(x)\n",
    "        loss = self.loss(y_hat, y)\n",
    "\n",
    "        # calculate accuracy\n",
    "        _, preds = torch.max(y_hat, dim=1)\n",
    "        acc = torchmetrics.functional.accuracy(\n",
    "            preds, y, num_classes=100, task=\"multiclass\"\n",
    "        )\n",
    "        self.log(\"test_loss\", loss, prog_bar=True)\n",
    "        self.log(\"test_acc\", acc)\n",
    "\n",
    "        return loss\n",
    "\n",
    "    def configure_optimizers(self):\n",
    "        optimizer = optim.Adam(self.parameters(), lr=self.cfg.lr)\n",
    "        scheduler = lr_scheduler.StepLR(optimizer, step_size=30, gamma=0.1)\n",
    "        return [optimizer], [scheduler]"
   ]
  },
  {
   "cell_type": "code",
   "execution_count": null,
   "metadata": {},
   "outputs": [],
   "source": [
    "theme = pl_callbacks.progress.rich_progress.RichProgressBarTheme(\n",
    "    description=\"black\",\n",
    "    progress_bar=\"cyan\",\n",
    "    progress_bar_finished=\"green\",\n",
    "    progress_bar_pulse=\"#6206E0\",\n",
    "    batch_progress=\"cyan\",\n",
    "    time=\"grey82\",\n",
    "    processing_speed=\"grey82\",\n",
    "    metrics=\"black\",\n",
    ")\n",
    "\n",
    "# Create the model\n",
    "model = timm.create_model(\"resnet50\", pretrained=True, num_classes=100)\n",
    "model = ImageClassifier(model, cfg)\n",
    "\n",
    "# Create a PyTorch Lightning trainer with the required callbacks\n",
    "trainer = pl.Trainer(\n",
    "    accelerator=\"auto\",\n",
    "    devices=\"auto\",\n",
    "    strategy=\"auto\",\n",
    "    max_epochs=cfg.num_epochs,\n",
    "    enable_model_summary=False,\n",
    "    callbacks=[\n",
    "        pl_callbacks.RichModelSummary(max_depth=3),\n",
    "        pl_callbacks.RichProgressBar(theme=theme),\n",
    "    ],\n",
    ")\n",
    "\n",
    "torch.set_float32_matmul_precision(\"medium\")\n",
    "\n",
    "# Train the model\n",
    "trainer.fit(model, train_dataloader, val_dataloader)"
   ]
  },
  {
   "cell_type": "code",
   "execution_count": null,
   "metadata": {},
   "outputs": [],
   "source": [
    "# Save the model\n",
    "torch.save(model.state_dict(), os.path.join(cfg.model_dir, \"resnet50_ft.pth\"))"
   ]
  },
  {
   "cell_type": "markdown",
   "metadata": {},
   "source": [
    "### Evaluation"
   ]
  },
  {
   "cell_type": "code",
   "execution_count": null,
   "metadata": {},
   "outputs": [],
   "source": [
    "# Evaluate the model on the test set\n",
    "trainer.test(model, test_dataloader)"
   ]
  }
 ],
 "metadata": {
  "kernelspec": {
   "display_name": "vitcc",
   "language": "python",
   "name": "python3"
  },
  "language_info": {
   "codemirror_mode": {
    "name": "ipython",
    "version": 3
   },
   "file_extension": ".py",
   "mimetype": "text/x-python",
   "name": "python",
   "nbconvert_exporter": "python",
   "pygments_lexer": "ipython3",
   "version": "3.10.13"
  }
 },
 "nbformat": 4,
 "nbformat_minor": 2
}
